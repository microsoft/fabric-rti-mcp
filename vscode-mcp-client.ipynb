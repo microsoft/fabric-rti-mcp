{
 "cells": [
  {
   "cell_type": "markdown",
   "id": "e681ac13",
   "metadata": {},
   "source": [
    "# Fabric RTI MCP Client\n",
    "This notebook demonstrates how to connect to and use the Microsoft Fabric RTI MCP server from VS Code."
   ]
  },
  {
   "cell_type": "code",
   "execution_count": null,
   "id": "c58523cf",
   "metadata": {},
   "outputs": [],
   "source": [
    "# Install required packages\n",
    "!pip install mcp httpx asyncio"
   ]
  },
  {
   "cell_type": "code",
   "execution_count": null,
   "id": "5e9be7b4",
   "metadata": {},
   "outputs": [],
   "source": [
    "import asyncio\n",
    "import json\n",
    "from mcp import ClientSession, StdioServerParameters\n",
    "from mcp.client.stdio import stdio_client\n",
    "\n",
    "async def connect_to_mcp_server():\n",
    "    \"\"\"Connect to the Fabric RTI MCP server\"\"\"\n",
    "    server_params = StdioServerParameters(\n",
    "        command=\"uvx\",\n",
    "        args=[\"microsoft-fabric-rti-mcp\"]\n",
    "    )\n",
    "    \n",
    "    async with stdio_client(server_params) as (read, write):\n",
    "        async with ClientSession(read, write) as session:\n",
    "            # Initialize the connection\n",
    "            await session.initialize()\n",
    "            \n",
    "            # List available tools\n",
    "            tools = await session.list_tools()\n",
    "            print(\"Available MCP tools:\")\n",
    "            for tool in tools.tools:\n",
    "                print(f\"  - {tool.name}: {tool.description}\")\n",
    "            \n",
    "            return session\n",
    "\n",
    "# Run the connection test\n",
    "await connect_to_mcp_server()"
   ]
  },
  {
   "cell_type": "code",
   "execution_count": null,
   "id": "e2df3260",
   "metadata": {},
   "outputs": [],
   "source": [
    "# Example: List Eventstreams\n",
    "async def list_eventstreams(workspace_id: str, auth_token: str):\n",
    "    server_params = StdioServerParameters(\n",
    "        command=\"uvx\",\n",
    "        args=[\"microsoft-fabric-rti-mcp\"]\n",
    "    )\n",
    "    \n",
    "    async with stdio_client(server_params) as (read, write):\n",
    "        async with ClientSession(read, write) as session:\n",
    "            await session.initialize()\n",
    "            \n",
    "            result = await session.call_tool(\n",
    "                \"eventstream_list\",\n",
    "                {\n",
    "                    \"workspace_id\": workspace_id,\n",
    "                    \"authorization_token\": auth_token\n",
    "                }\n",
    "            )\n",
    "            \n",
    "            return result.content\n",
    "\n",
    "# Usage (replace with your actual credentials):\n",
    "# result = await list_eventstreams(\"your-workspace-id\", \"Bearer your-token\")\n",
    "# print(json.dumps(result, indent=2))"
   ]
  },
  {
   "cell_type": "code",
   "execution_count": null,
   "id": "5851847a",
   "metadata": {},
   "outputs": [],
   "source": [
    "# Example: Query Kusto\n",
    "async def query_kusto(cluster_uri: str, query: str, database: str = None):\n",
    "    server_params = StdioServerParameters(\n",
    "        command=\"uvx\",\n",
    "        args=[\"microsoft-fabric-rti-mcp\"]\n",
    "    )\n",
    "    \n",
    "    async with stdio_client(server_params) as (read, write):\n",
    "        async with ClientSession(read, write) as session:\n",
    "            await session.initialize()\n",
    "            \n",
    "            args = {\n",
    "                \"cluster_uri\": cluster_uri,\n",
    "                \"query\": query\n",
    "            }\n",
    "            if database:\n",
    "                args[\"database\"] = database\n",
    "                \n",
    "            result = await session.call_tool(\"kusto_query\", args)\n",
    "            return result.content\n",
    "\n",
    "# Usage (replace with your actual cluster and query):\n",
    "# result = await query_kusto(\n",
    "#     \"https://your-cluster.kusto.windows.net\", \n",
    "#     \"MyTable | take 10\"\n",
    "# )\n",
    "# print(json.dumps(result, indent=2))"
   ]
  }
 ],
 "metadata": {
  "language_info": {
   "name": "python"
  }
 },
 "nbformat": 4,
 "nbformat_minor": 5
}
